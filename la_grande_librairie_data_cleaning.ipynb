{
 "cells": [
  {
   "cell_type": "markdown",
   "source": [
    "# Librairies"
   ],
   "metadata": {}
  },
  {
   "cell_type": "code",
   "execution_count": 1,
   "source": [
    "import pandas as pd \r\n",
    "import numpy as np\r\n",
    "import seaborn as sns\r\n",
    "import matplotlib.pyplot as plt\r\n",
    "import os\r\n",
    "import datetime"
   ],
   "outputs": [],
   "metadata": {}
  },
  {
   "cell_type": "markdown",
   "source": [
    "# Import des données"
   ],
   "metadata": {}
  },
  {
   "cell_type": "code",
   "execution_count": 2,
   "source": [
    "df_ventes_original = pd.read_csv('./raw/ventes.csv')\r\n",
    "df_produits_original = pd.read_csv('./raw/produits.csv')\r\n",
    "df_clients_original = pd.read_csv('./raw/clients.csv')\r\n",
    "df_ventes, df_produits, df_clients = df_ventes_original, df_produits_original, df_clients_original"
   ],
   "outputs": [],
   "metadata": {}
  },
  {
   "cell_type": "code",
   "execution_count": 3,
   "source": [
    "df_ventes.info()\r\n",
    "df_ventes.describe()\r\n",
    "df_ventes.head(30)\r\n",
    "df_ventes.isna().sum().sum()\r\n",
    "print(df_ventes.nunique())\r\n",
    "dups_shape = df_ventes.pivot_table(columns=['session_id'], aggfunc='size')\r\n",
    "dups_shape"
   ],
   "outputs": [
    {
     "output_type": "stream",
     "name": "stdout",
     "text": [
      "<class 'pandas.core.frame.DataFrame'>\n",
      "RangeIndex: 337016 entries, 0 to 337015\n",
      "Data columns (total 4 columns):\n",
      " #   Column      Non-Null Count   Dtype \n",
      "---  ------      --------------   ----- \n",
      " 0   id_prod     337016 non-null  object\n",
      " 1   date        337016 non-null  object\n",
      " 2   session_id  337016 non-null  object\n",
      " 3   client_id   337016 non-null  object\n",
      "dtypes: object(4)\n",
      "memory usage: 10.3+ MB\n",
      "id_prod         3266\n",
      "date          336855\n",
      "session_id    169195\n",
      "client_id       8602\n",
      "dtype: int64\n"
     ]
    },
    {
     "output_type": "execute_result",
     "data": {
      "text/plain": [
       "session_id\n",
       "s_0        200\n",
       "s_1          1\n",
       "s_10         1\n",
       "s_100        2\n",
       "s_1000       4\n",
       "          ... \n",
       "s_99994      3\n",
       "s_99995      1\n",
       "s_99996      4\n",
       "s_99997      1\n",
       "s_99998      3\n",
       "Length: 169195, dtype: int64"
      ]
     },
     "metadata": {},
     "execution_count": 3
    }
   ],
   "metadata": {}
  },
  {
   "cell_type": "code",
   "execution_count": 4,
   "source": [
    "df_produits.info()\r\n",
    "df_produits.describe()\r\n",
    "df_produits.head(30)\r\n",
    "df_produits.isna().sum().sum()\r\n",
    "df_produits.nunique()"
   ],
   "outputs": [
    {
     "output_type": "stream",
     "name": "stdout",
     "text": [
      "<class 'pandas.core.frame.DataFrame'>\n",
      "RangeIndex: 3287 entries, 0 to 3286\n",
      "Data columns (total 3 columns):\n",
      " #   Column   Non-Null Count  Dtype  \n",
      "---  ------   --------------  -----  \n",
      " 0   id_prod  3287 non-null   object \n",
      " 1   price    3287 non-null   float64\n",
      " 2   categ    3287 non-null   int64  \n",
      "dtypes: float64(1), int64(1), object(1)\n",
      "memory usage: 77.2+ KB\n"
     ]
    },
    {
     "output_type": "execute_result",
     "data": {
      "text/plain": [
       "id_prod    3287\n",
       "price      1455\n",
       "categ         3\n",
       "dtype: int64"
      ]
     },
     "metadata": {},
     "execution_count": 4
    }
   ],
   "metadata": {}
  },
  {
   "cell_type": "code",
   "execution_count": 5,
   "source": [
    "df_clients.info()\r\n",
    "df_clients.describe()\r\n",
    "df_clients.head(30)\r\n",
    "df_clients.isna().sum().sum()\r\n",
    "dups_shape = df_clients.pivot_table(columns=['client_id'], aggfunc='size')\r\n",
    "print (dups_shape)"
   ],
   "outputs": [
    {
     "output_type": "stream",
     "name": "stdout",
     "text": [
      "<class 'pandas.core.frame.DataFrame'>\n",
      "RangeIndex: 8623 entries, 0 to 8622\n",
      "Data columns (total 3 columns):\n",
      " #   Column     Non-Null Count  Dtype \n",
      "---  ------     --------------  ----- \n",
      " 0   client_id  8623 non-null   object\n",
      " 1   sex        8623 non-null   object\n",
      " 2   birth      8623 non-null   int64 \n",
      "dtypes: int64(1), object(2)\n",
      "memory usage: 202.2+ KB\n",
      "client_id\n",
      "c_1       1\n",
      "c_10      1\n",
      "c_100     1\n",
      "c_1000    1\n",
      "c_1001    1\n",
      "         ..\n",
      "c_997     1\n",
      "c_998     1\n",
      "c_999     1\n",
      "ct_0      1\n",
      "ct_1      1\n",
      "Length: 8623, dtype: int64\n"
     ]
    }
   ],
   "metadata": {}
  },
  {
   "cell_type": "markdown",
   "source": [
    "# Merge des dataframes "
   ],
   "metadata": {}
  },
  {
   "cell_type": "code",
   "execution_count": 6,
   "source": [
    "# df_ventes, df_produits, df_clients\r\n",
    "df_temp = pd.merge(df_ventes,\r\n",
    "                        df_clients,left_on='client_id', right_on='client_id', how=\"inner\")\r\n",
    "df_full =  pd.merge(df_temp,\r\n",
    "                        df_produits, left_on='id_prod', right_on='id_prod', how=\"inner\")\r\n",
    "df_full.sort_values('date', ascending = False, inplace = True)"
   ],
   "outputs": [],
   "metadata": {}
  },
  {
   "cell_type": "code",
   "execution_count": 7,
   "source": [
    "df_full.info()\r\n",
    "df_full.describe()\r\n",
    "df_full.head(30)\r\n",
    "df_full.isna().sum().sum()\r\n",
    "df_full.head(202)"
   ],
   "outputs": [
    {
     "output_type": "stream",
     "name": "stdout",
     "text": [
      "<class 'pandas.core.frame.DataFrame'>\n",
      "Int64Index: 336913 entries, 335980 to 240413\n",
      "Data columns (total 8 columns):\n",
      " #   Column      Non-Null Count   Dtype  \n",
      "---  ------      --------------   -----  \n",
      " 0   id_prod     336913 non-null  object \n",
      " 1   date        336913 non-null  object \n",
      " 2   session_id  336913 non-null  object \n",
      " 3   client_id   336913 non-null  object \n",
      " 4   sex         336913 non-null  object \n",
      " 5   birth       336913 non-null  int64  \n",
      " 6   price       336913 non-null  float64\n",
      " 7   categ       336913 non-null  int64  \n",
      "dtypes: float64(1), int64(2), object(5)\n",
      "memory usage: 23.1+ MB\n"
     ]
    },
    {
     "output_type": "execute_result",
     "data": {
      "text/plain": [
       "       id_prod                             date session_id client_id sex  \\\n",
       "335980     T_0  test_2021-03-01 02:30:02.237450        s_0      ct_0   f   \n",
       "336033     T_0  test_2021-03-01 02:30:02.237449        s_0      ct_0   f   \n",
       "335944     T_0  test_2021-03-01 02:30:02.237449        s_0      ct_1   m   \n",
       "336032     T_0  test_2021-03-01 02:30:02.237449        s_0      ct_0   f   \n",
       "336070     T_0  test_2021-03-01 02:30:02.237448        s_0      ct_0   f   \n",
       "...        ...                              ...        ...       ...  ..   \n",
       "335887     T_0  test_2021-03-01 02:30:02.237412        s_0      ct_1   m   \n",
       "335882     T_0  test_2021-03-01 02:30:02.237412        s_0      ct_1   m   \n",
       "335906     T_0  test_2021-03-01 02:30:02.237412        s_0      ct_1   m   \n",
       "276460  0_1775       2022-02-28 23:59:58.040472   s_172423    c_1460   m   \n",
       "224665  0_1403       2022-02-28 23:59:02.381670   s_172423    c_1460   m   \n",
       "\n",
       "        birth  price  categ  \n",
       "335980   2001  -1.00      0  \n",
       "336033   2001  -1.00      0  \n",
       "335944   2001  -1.00      0  \n",
       "336032   2001  -1.00      0  \n",
       "336070   2001  -1.00      0  \n",
       "...       ...    ...    ...  \n",
       "335887   2001  -1.00      0  \n",
       "335882   2001  -1.00      0  \n",
       "335906   2001  -1.00      0  \n",
       "276460   1989   6.99      0  \n",
       "224665   1989  15.99      0  \n",
       "\n",
       "[202 rows x 8 columns]"
      ],
      "text/html": [
       "<div>\n",
       "<style scoped>\n",
       "    .dataframe tbody tr th:only-of-type {\n",
       "        vertical-align: middle;\n",
       "    }\n",
       "\n",
       "    .dataframe tbody tr th {\n",
       "        vertical-align: top;\n",
       "    }\n",
       "\n",
       "    .dataframe thead th {\n",
       "        text-align: right;\n",
       "    }\n",
       "</style>\n",
       "<table border=\"1\" class=\"dataframe\">\n",
       "  <thead>\n",
       "    <tr style=\"text-align: right;\">\n",
       "      <th></th>\n",
       "      <th>id_prod</th>\n",
       "      <th>date</th>\n",
       "      <th>session_id</th>\n",
       "      <th>client_id</th>\n",
       "      <th>sex</th>\n",
       "      <th>birth</th>\n",
       "      <th>price</th>\n",
       "      <th>categ</th>\n",
       "    </tr>\n",
       "  </thead>\n",
       "  <tbody>\n",
       "    <tr>\n",
       "      <th>335980</th>\n",
       "      <td>T_0</td>\n",
       "      <td>test_2021-03-01 02:30:02.237450</td>\n",
       "      <td>s_0</td>\n",
       "      <td>ct_0</td>\n",
       "      <td>f</td>\n",
       "      <td>2001</td>\n",
       "      <td>-1.00</td>\n",
       "      <td>0</td>\n",
       "    </tr>\n",
       "    <tr>\n",
       "      <th>336033</th>\n",
       "      <td>T_0</td>\n",
       "      <td>test_2021-03-01 02:30:02.237449</td>\n",
       "      <td>s_0</td>\n",
       "      <td>ct_0</td>\n",
       "      <td>f</td>\n",
       "      <td>2001</td>\n",
       "      <td>-1.00</td>\n",
       "      <td>0</td>\n",
       "    </tr>\n",
       "    <tr>\n",
       "      <th>335944</th>\n",
       "      <td>T_0</td>\n",
       "      <td>test_2021-03-01 02:30:02.237449</td>\n",
       "      <td>s_0</td>\n",
       "      <td>ct_1</td>\n",
       "      <td>m</td>\n",
       "      <td>2001</td>\n",
       "      <td>-1.00</td>\n",
       "      <td>0</td>\n",
       "    </tr>\n",
       "    <tr>\n",
       "      <th>336032</th>\n",
       "      <td>T_0</td>\n",
       "      <td>test_2021-03-01 02:30:02.237449</td>\n",
       "      <td>s_0</td>\n",
       "      <td>ct_0</td>\n",
       "      <td>f</td>\n",
       "      <td>2001</td>\n",
       "      <td>-1.00</td>\n",
       "      <td>0</td>\n",
       "    </tr>\n",
       "    <tr>\n",
       "      <th>336070</th>\n",
       "      <td>T_0</td>\n",
       "      <td>test_2021-03-01 02:30:02.237448</td>\n",
       "      <td>s_0</td>\n",
       "      <td>ct_0</td>\n",
       "      <td>f</td>\n",
       "      <td>2001</td>\n",
       "      <td>-1.00</td>\n",
       "      <td>0</td>\n",
       "    </tr>\n",
       "    <tr>\n",
       "      <th>...</th>\n",
       "      <td>...</td>\n",
       "      <td>...</td>\n",
       "      <td>...</td>\n",
       "      <td>...</td>\n",
       "      <td>...</td>\n",
       "      <td>...</td>\n",
       "      <td>...</td>\n",
       "      <td>...</td>\n",
       "    </tr>\n",
       "    <tr>\n",
       "      <th>335887</th>\n",
       "      <td>T_0</td>\n",
       "      <td>test_2021-03-01 02:30:02.237412</td>\n",
       "      <td>s_0</td>\n",
       "      <td>ct_1</td>\n",
       "      <td>m</td>\n",
       "      <td>2001</td>\n",
       "      <td>-1.00</td>\n",
       "      <td>0</td>\n",
       "    </tr>\n",
       "    <tr>\n",
       "      <th>335882</th>\n",
       "      <td>T_0</td>\n",
       "      <td>test_2021-03-01 02:30:02.237412</td>\n",
       "      <td>s_0</td>\n",
       "      <td>ct_1</td>\n",
       "      <td>m</td>\n",
       "      <td>2001</td>\n",
       "      <td>-1.00</td>\n",
       "      <td>0</td>\n",
       "    </tr>\n",
       "    <tr>\n",
       "      <th>335906</th>\n",
       "      <td>T_0</td>\n",
       "      <td>test_2021-03-01 02:30:02.237412</td>\n",
       "      <td>s_0</td>\n",
       "      <td>ct_1</td>\n",
       "      <td>m</td>\n",
       "      <td>2001</td>\n",
       "      <td>-1.00</td>\n",
       "      <td>0</td>\n",
       "    </tr>\n",
       "    <tr>\n",
       "      <th>276460</th>\n",
       "      <td>0_1775</td>\n",
       "      <td>2022-02-28 23:59:58.040472</td>\n",
       "      <td>s_172423</td>\n",
       "      <td>c_1460</td>\n",
       "      <td>m</td>\n",
       "      <td>1989</td>\n",
       "      <td>6.99</td>\n",
       "      <td>0</td>\n",
       "    </tr>\n",
       "    <tr>\n",
       "      <th>224665</th>\n",
       "      <td>0_1403</td>\n",
       "      <td>2022-02-28 23:59:02.381670</td>\n",
       "      <td>s_172423</td>\n",
       "      <td>c_1460</td>\n",
       "      <td>m</td>\n",
       "      <td>1989</td>\n",
       "      <td>15.99</td>\n",
       "      <td>0</td>\n",
       "    </tr>\n",
       "  </tbody>\n",
       "</table>\n",
       "<p>202 rows × 8 columns</p>\n",
       "</div>"
      ]
     },
     "metadata": {},
     "execution_count": 7
    }
   ],
   "metadata": {}
  },
  {
   "cell_type": "markdown",
   "source": [
    "## Il y a un prix negatif pour l'id prod = T_0 : prix = -1\r\n",
    "## De plus cela correspond à 200 achats, des dates commençant par test_ et les clients ct_0 et ct_1\r\n",
    "## cela ressemble à des données de test on les supprimera pour l'analyse\r\n"
   ],
   "metadata": {}
  },
  {
   "cell_type": "code",
   "execution_count": 8,
   "source": [
    "df_full= df_full.drop(df_full[df_full.price < 0 ].index)\r\n",
    "df_full.head(202)"
   ],
   "outputs": [
    {
     "output_type": "execute_result",
     "data": {
      "text/plain": [
       "       id_prod                        date session_id client_id sex  birth  \\\n",
       "276460  0_1775  2022-02-28 23:59:58.040472   s_172423    c_1460   m   1989   \n",
       "224665  0_1403  2022-02-28 23:59:02.381670   s_172423    c_1460   m   1989   \n",
       "190844  0_1538  2022-02-28 23:57:12.741573   s_172424    c_1876   m   1983   \n",
       "40284    1_370  2022-02-28 23:56:57.561424   s_172423    c_1460   m   1989   \n",
       "128446   1_456  2022-02-28 23:56:57.196281   s_172422    c_5787   f   1986   \n",
       "...        ...                         ...        ...       ...  ..    ...   \n",
       "52582    1_445  2022-02-28 19:22:34.048975   s_172316    c_8261   m   1938   \n",
       "85861    1_259  2022-02-28 19:20:40.130507   s_172322     c_466   m   1940   \n",
       "75695   0_2030  2022-02-28 19:19:44.981612   s_172327    c_3357   m   1972   \n",
       "65134   0_2296  2022-02-28 19:19:14.276720   s_172318    c_5875   f   1979   \n",
       "129654   1_644  2022-02-28 19:17:06.358879   s_172326    c_2801   m   1964   \n",
       "\n",
       "        price  categ  \n",
       "276460   6.99      0  \n",
       "224665  15.99      0  \n",
       "190844   8.61      0  \n",
       "40284   13.11      1  \n",
       "128446  28.27      1  \n",
       "...       ...    ...  \n",
       "52582   23.99      1  \n",
       "85861   10.99      1  \n",
       "75695   13.40      0  \n",
       "65134   16.95      0  \n",
       "129654  25.79      1  \n",
       "\n",
       "[202 rows x 8 columns]"
      ],
      "text/html": [
       "<div>\n",
       "<style scoped>\n",
       "    .dataframe tbody tr th:only-of-type {\n",
       "        vertical-align: middle;\n",
       "    }\n",
       "\n",
       "    .dataframe tbody tr th {\n",
       "        vertical-align: top;\n",
       "    }\n",
       "\n",
       "    .dataframe thead th {\n",
       "        text-align: right;\n",
       "    }\n",
       "</style>\n",
       "<table border=\"1\" class=\"dataframe\">\n",
       "  <thead>\n",
       "    <tr style=\"text-align: right;\">\n",
       "      <th></th>\n",
       "      <th>id_prod</th>\n",
       "      <th>date</th>\n",
       "      <th>session_id</th>\n",
       "      <th>client_id</th>\n",
       "      <th>sex</th>\n",
       "      <th>birth</th>\n",
       "      <th>price</th>\n",
       "      <th>categ</th>\n",
       "    </tr>\n",
       "  </thead>\n",
       "  <tbody>\n",
       "    <tr>\n",
       "      <th>276460</th>\n",
       "      <td>0_1775</td>\n",
       "      <td>2022-02-28 23:59:58.040472</td>\n",
       "      <td>s_172423</td>\n",
       "      <td>c_1460</td>\n",
       "      <td>m</td>\n",
       "      <td>1989</td>\n",
       "      <td>6.99</td>\n",
       "      <td>0</td>\n",
       "    </tr>\n",
       "    <tr>\n",
       "      <th>224665</th>\n",
       "      <td>0_1403</td>\n",
       "      <td>2022-02-28 23:59:02.381670</td>\n",
       "      <td>s_172423</td>\n",
       "      <td>c_1460</td>\n",
       "      <td>m</td>\n",
       "      <td>1989</td>\n",
       "      <td>15.99</td>\n",
       "      <td>0</td>\n",
       "    </tr>\n",
       "    <tr>\n",
       "      <th>190844</th>\n",
       "      <td>0_1538</td>\n",
       "      <td>2022-02-28 23:57:12.741573</td>\n",
       "      <td>s_172424</td>\n",
       "      <td>c_1876</td>\n",
       "      <td>m</td>\n",
       "      <td>1983</td>\n",
       "      <td>8.61</td>\n",
       "      <td>0</td>\n",
       "    </tr>\n",
       "    <tr>\n",
       "      <th>40284</th>\n",
       "      <td>1_370</td>\n",
       "      <td>2022-02-28 23:56:57.561424</td>\n",
       "      <td>s_172423</td>\n",
       "      <td>c_1460</td>\n",
       "      <td>m</td>\n",
       "      <td>1989</td>\n",
       "      <td>13.11</td>\n",
       "      <td>1</td>\n",
       "    </tr>\n",
       "    <tr>\n",
       "      <th>128446</th>\n",
       "      <td>1_456</td>\n",
       "      <td>2022-02-28 23:56:57.196281</td>\n",
       "      <td>s_172422</td>\n",
       "      <td>c_5787</td>\n",
       "      <td>f</td>\n",
       "      <td>1986</td>\n",
       "      <td>28.27</td>\n",
       "      <td>1</td>\n",
       "    </tr>\n",
       "    <tr>\n",
       "      <th>...</th>\n",
       "      <td>...</td>\n",
       "      <td>...</td>\n",
       "      <td>...</td>\n",
       "      <td>...</td>\n",
       "      <td>...</td>\n",
       "      <td>...</td>\n",
       "      <td>...</td>\n",
       "      <td>...</td>\n",
       "    </tr>\n",
       "    <tr>\n",
       "      <th>52582</th>\n",
       "      <td>1_445</td>\n",
       "      <td>2022-02-28 19:22:34.048975</td>\n",
       "      <td>s_172316</td>\n",
       "      <td>c_8261</td>\n",
       "      <td>m</td>\n",
       "      <td>1938</td>\n",
       "      <td>23.99</td>\n",
       "      <td>1</td>\n",
       "    </tr>\n",
       "    <tr>\n",
       "      <th>85861</th>\n",
       "      <td>1_259</td>\n",
       "      <td>2022-02-28 19:20:40.130507</td>\n",
       "      <td>s_172322</td>\n",
       "      <td>c_466</td>\n",
       "      <td>m</td>\n",
       "      <td>1940</td>\n",
       "      <td>10.99</td>\n",
       "      <td>1</td>\n",
       "    </tr>\n",
       "    <tr>\n",
       "      <th>75695</th>\n",
       "      <td>0_2030</td>\n",
       "      <td>2022-02-28 19:19:44.981612</td>\n",
       "      <td>s_172327</td>\n",
       "      <td>c_3357</td>\n",
       "      <td>m</td>\n",
       "      <td>1972</td>\n",
       "      <td>13.40</td>\n",
       "      <td>0</td>\n",
       "    </tr>\n",
       "    <tr>\n",
       "      <th>65134</th>\n",
       "      <td>0_2296</td>\n",
       "      <td>2022-02-28 19:19:14.276720</td>\n",
       "      <td>s_172318</td>\n",
       "      <td>c_5875</td>\n",
       "      <td>f</td>\n",
       "      <td>1979</td>\n",
       "      <td>16.95</td>\n",
       "      <td>0</td>\n",
       "    </tr>\n",
       "    <tr>\n",
       "      <th>129654</th>\n",
       "      <td>1_644</td>\n",
       "      <td>2022-02-28 19:17:06.358879</td>\n",
       "      <td>s_172326</td>\n",
       "      <td>c_2801</td>\n",
       "      <td>m</td>\n",
       "      <td>1964</td>\n",
       "      <td>25.79</td>\n",
       "      <td>1</td>\n",
       "    </tr>\n",
       "  </tbody>\n",
       "</table>\n",
       "<p>202 rows × 8 columns</p>\n",
       "</div>"
      ]
     },
     "metadata": {},
     "execution_count": 8
    }
   ],
   "metadata": {}
  },
  {
   "cell_type": "markdown",
   "source": [],
   "metadata": {}
  },
  {
   "cell_type": "code",
   "execution_count": 9,
   "source": [
    "print(df_full.date.nunique())\r\n",
    "df_full.shape"
   ],
   "outputs": [
    {
     "output_type": "stream",
     "name": "stdout",
     "text": [
      "336713\n"
     ]
    },
    {
     "output_type": "execute_result",
     "data": {
      "text/plain": [
       "(336713, 8)"
      ]
     },
     "metadata": {},
     "execution_count": 9
    }
   ],
   "metadata": {}
  },
  {
   "cell_type": "code",
   "execution_count": 10,
   "source": [
    "df_full['date'] = pd.to_datetime(df_full['date'], format=\"%Y-%m-%d %H:%M:%S.%f\")\r\n",
    "df_full.describe()\r\n",
    "type(df_full['date'][2])"
   ],
   "outputs": [
    {
     "output_type": "execute_result",
     "data": {
      "text/plain": [
       "pandas._libs.tslibs.timestamps.Timestamp"
      ]
     },
     "metadata": {},
     "execution_count": 10
    }
   ],
   "metadata": {}
  },
  {
   "cell_type": "code",
   "execution_count": 11,
   "source": [
    "print(datetime.date.today().year)\r\n",
    "df_full ['consumer_age'] = datetime.date.today().year - df_full['birth']\r\n",
    "df_full"
   ],
   "outputs": [
    {
     "output_type": "stream",
     "name": "stdout",
     "text": [
      "2021\n"
     ]
    },
    {
     "output_type": "execute_result",
     "data": {
      "text/plain": [
       "       id_prod                       date session_id client_id sex  birth  \\\n",
       "276460  0_1775 2022-02-28 23:59:58.040472   s_172423    c_1460   m   1989   \n",
       "224665  0_1403 2022-02-28 23:59:02.381670   s_172423    c_1460   m   1989   \n",
       "190844  0_1538 2022-02-28 23:57:12.741573   s_172424    c_1876   m   1983   \n",
       "40284    1_370 2022-02-28 23:56:57.561424   s_172423    c_1460   m   1989   \n",
       "128446   1_456 2022-02-28 23:56:57.196281   s_172422    c_5787   f   1986   \n",
       "...        ...                        ...        ...       ...  ..    ...   \n",
       "112464  0_1358 2021-03-01 00:05:18.801198        s_5    c_2033   f   1956   \n",
       "43380   0_1458 2021-03-01 00:04:54.559692        s_4    c_7912   f   1989   \n",
       "167345  0_1352 2021-03-01 00:02:38.311413        s_3     c_580   m   1988   \n",
       "236663  0_1390 2021-03-01 00:02:26.047414        s_2     c_664   m   1960   \n",
       "240413  0_1259 2021-03-01 00:01:07.843138        s_1     c_329   f   1967   \n",
       "\n",
       "        price  categ  consumer_age  \n",
       "276460   6.99      0            32  \n",
       "224665  15.99      0            32  \n",
       "190844   8.61      0            38  \n",
       "40284   13.11      1            32  \n",
       "128446  28.27      1            35  \n",
       "...       ...    ...           ...  \n",
       "112464  16.49      0            65  \n",
       "43380    6.55      0            32  \n",
       "167345   4.50      0            33  \n",
       "236663  19.37      0            61  \n",
       "240413  11.99      0            54  \n",
       "\n",
       "[336713 rows x 9 columns]"
      ],
      "text/html": [
       "<div>\n",
       "<style scoped>\n",
       "    .dataframe tbody tr th:only-of-type {\n",
       "        vertical-align: middle;\n",
       "    }\n",
       "\n",
       "    .dataframe tbody tr th {\n",
       "        vertical-align: top;\n",
       "    }\n",
       "\n",
       "    .dataframe thead th {\n",
       "        text-align: right;\n",
       "    }\n",
       "</style>\n",
       "<table border=\"1\" class=\"dataframe\">\n",
       "  <thead>\n",
       "    <tr style=\"text-align: right;\">\n",
       "      <th></th>\n",
       "      <th>id_prod</th>\n",
       "      <th>date</th>\n",
       "      <th>session_id</th>\n",
       "      <th>client_id</th>\n",
       "      <th>sex</th>\n",
       "      <th>birth</th>\n",
       "      <th>price</th>\n",
       "      <th>categ</th>\n",
       "      <th>consumer_age</th>\n",
       "    </tr>\n",
       "  </thead>\n",
       "  <tbody>\n",
       "    <tr>\n",
       "      <th>276460</th>\n",
       "      <td>0_1775</td>\n",
       "      <td>2022-02-28 23:59:58.040472</td>\n",
       "      <td>s_172423</td>\n",
       "      <td>c_1460</td>\n",
       "      <td>m</td>\n",
       "      <td>1989</td>\n",
       "      <td>6.99</td>\n",
       "      <td>0</td>\n",
       "      <td>32</td>\n",
       "    </tr>\n",
       "    <tr>\n",
       "      <th>224665</th>\n",
       "      <td>0_1403</td>\n",
       "      <td>2022-02-28 23:59:02.381670</td>\n",
       "      <td>s_172423</td>\n",
       "      <td>c_1460</td>\n",
       "      <td>m</td>\n",
       "      <td>1989</td>\n",
       "      <td>15.99</td>\n",
       "      <td>0</td>\n",
       "      <td>32</td>\n",
       "    </tr>\n",
       "    <tr>\n",
       "      <th>190844</th>\n",
       "      <td>0_1538</td>\n",
       "      <td>2022-02-28 23:57:12.741573</td>\n",
       "      <td>s_172424</td>\n",
       "      <td>c_1876</td>\n",
       "      <td>m</td>\n",
       "      <td>1983</td>\n",
       "      <td>8.61</td>\n",
       "      <td>0</td>\n",
       "      <td>38</td>\n",
       "    </tr>\n",
       "    <tr>\n",
       "      <th>40284</th>\n",
       "      <td>1_370</td>\n",
       "      <td>2022-02-28 23:56:57.561424</td>\n",
       "      <td>s_172423</td>\n",
       "      <td>c_1460</td>\n",
       "      <td>m</td>\n",
       "      <td>1989</td>\n",
       "      <td>13.11</td>\n",
       "      <td>1</td>\n",
       "      <td>32</td>\n",
       "    </tr>\n",
       "    <tr>\n",
       "      <th>128446</th>\n",
       "      <td>1_456</td>\n",
       "      <td>2022-02-28 23:56:57.196281</td>\n",
       "      <td>s_172422</td>\n",
       "      <td>c_5787</td>\n",
       "      <td>f</td>\n",
       "      <td>1986</td>\n",
       "      <td>28.27</td>\n",
       "      <td>1</td>\n",
       "      <td>35</td>\n",
       "    </tr>\n",
       "    <tr>\n",
       "      <th>...</th>\n",
       "      <td>...</td>\n",
       "      <td>...</td>\n",
       "      <td>...</td>\n",
       "      <td>...</td>\n",
       "      <td>...</td>\n",
       "      <td>...</td>\n",
       "      <td>...</td>\n",
       "      <td>...</td>\n",
       "      <td>...</td>\n",
       "    </tr>\n",
       "    <tr>\n",
       "      <th>112464</th>\n",
       "      <td>0_1358</td>\n",
       "      <td>2021-03-01 00:05:18.801198</td>\n",
       "      <td>s_5</td>\n",
       "      <td>c_2033</td>\n",
       "      <td>f</td>\n",
       "      <td>1956</td>\n",
       "      <td>16.49</td>\n",
       "      <td>0</td>\n",
       "      <td>65</td>\n",
       "    </tr>\n",
       "    <tr>\n",
       "      <th>43380</th>\n",
       "      <td>0_1458</td>\n",
       "      <td>2021-03-01 00:04:54.559692</td>\n",
       "      <td>s_4</td>\n",
       "      <td>c_7912</td>\n",
       "      <td>f</td>\n",
       "      <td>1989</td>\n",
       "      <td>6.55</td>\n",
       "      <td>0</td>\n",
       "      <td>32</td>\n",
       "    </tr>\n",
       "    <tr>\n",
       "      <th>167345</th>\n",
       "      <td>0_1352</td>\n",
       "      <td>2021-03-01 00:02:38.311413</td>\n",
       "      <td>s_3</td>\n",
       "      <td>c_580</td>\n",
       "      <td>m</td>\n",
       "      <td>1988</td>\n",
       "      <td>4.50</td>\n",
       "      <td>0</td>\n",
       "      <td>33</td>\n",
       "    </tr>\n",
       "    <tr>\n",
       "      <th>236663</th>\n",
       "      <td>0_1390</td>\n",
       "      <td>2021-03-01 00:02:26.047414</td>\n",
       "      <td>s_2</td>\n",
       "      <td>c_664</td>\n",
       "      <td>m</td>\n",
       "      <td>1960</td>\n",
       "      <td>19.37</td>\n",
       "      <td>0</td>\n",
       "      <td>61</td>\n",
       "    </tr>\n",
       "    <tr>\n",
       "      <th>240413</th>\n",
       "      <td>0_1259</td>\n",
       "      <td>2021-03-01 00:01:07.843138</td>\n",
       "      <td>s_1</td>\n",
       "      <td>c_329</td>\n",
       "      <td>f</td>\n",
       "      <td>1967</td>\n",
       "      <td>11.99</td>\n",
       "      <td>0</td>\n",
       "      <td>54</td>\n",
       "    </tr>\n",
       "  </tbody>\n",
       "</table>\n",
       "<p>336713 rows × 9 columns</p>\n",
       "</div>"
      ]
     },
     "metadata": {},
     "execution_count": 11
    }
   ],
   "metadata": {}
  },
  {
   "cell_type": "code",
   "execution_count": 12,
   "source": [
    "df_full.info()"
   ],
   "outputs": [
    {
     "output_type": "stream",
     "name": "stdout",
     "text": [
      "<class 'pandas.core.frame.DataFrame'>\n",
      "Int64Index: 336713 entries, 276460 to 240413\n",
      "Data columns (total 9 columns):\n",
      " #   Column        Non-Null Count   Dtype         \n",
      "---  ------        --------------   -----         \n",
      " 0   id_prod       336713 non-null  object        \n",
      " 1   date          336713 non-null  datetime64[ns]\n",
      " 2   session_id    336713 non-null  object        \n",
      " 3   client_id     336713 non-null  object        \n",
      " 4   sex           336713 non-null  object        \n",
      " 5   birth         336713 non-null  int64         \n",
      " 6   price         336713 non-null  float64       \n",
      " 7   categ         336713 non-null  int64         \n",
      " 8   consumer_age  336713 non-null  int64         \n",
      "dtypes: datetime64[ns](1), float64(1), int64(3), object(4)\n",
      "memory usage: 33.8+ MB\n"
     ]
    }
   ],
   "metadata": {}
  },
  {
   "cell_type": "code",
   "execution_count": 13,
   "source": [
    "(df_full['sex']=='m').sum()"
   ],
   "outputs": [
    {
     "output_type": "execute_result",
     "data": {
      "text/plain": [
       "169198"
      ]
     },
     "metadata": {},
     "execution_count": 13
    }
   ],
   "metadata": {}
  },
  {
   "cell_type": "markdown",
   "source": [
    "# Récuperons les données pour l'analyse"
   ],
   "metadata": {}
  },
  {
   "cell_type": "code",
   "execution_count": 14,
   "source": [
    "if not os.path.exists('curated'):\r\n",
    "    os.mkdir('curated')\r\n",
    "df_full.to_csv (r'./curated/df_full_curated.csv', index = False, header=True)"
   ],
   "outputs": [],
   "metadata": {}
  },
  {
   "cell_type": "markdown",
   "source": [
    "# Recuperons la liste des articles non vendus : "
   ],
   "metadata": {}
  },
  {
   "cell_type": "markdown",
   "source": [
    "En effect les articles qui ne sont jamais vendus meritent d'etre listés et remontés au manager dans le but eventuel de les retirer de la vente"
   ],
   "metadata": {}
  },
  {
   "cell_type": "code",
   "execution_count": 15,
   "source": [
    "df_non_vendu = df_ventes.merge(df_produits, how = 'outer' ,indicator=True).loc[lambda x : x['_merge']=='right_only']\r\n",
    "df_non_vendu.to_csv (r'./curated/df_non_vendu.csv', index = False, header=True)\r\n"
   ],
   "outputs": [],
   "metadata": {}
  },
  {
   "cell_type": "markdown",
   "source": [
    "On recense 22 articles jamais vendu"
   ],
   "metadata": {}
  },
  {
   "cell_type": "code",
   "execution_count": 16,
   "source": [
    "pd.to_datetime('2022-02-28 23:56:57.196281', format=\"%Y-%m-%d %H:%M:%S.%f\")"
   ],
   "outputs": [
    {
     "output_type": "execute_result",
     "data": {
      "text/plain": [
       "Timestamp('2022-02-28 23:56:57.196281')"
      ]
     },
     "metadata": {},
     "execution_count": 16
    }
   ],
   "metadata": {}
  }
 ],
 "metadata": {
  "orig_nbformat": 4,
  "language_info": {
   "name": "python",
   "version": "3.8.8",
   "mimetype": "text/x-python",
   "codemirror_mode": {
    "name": "ipython",
    "version": 3
   },
   "pygments_lexer": "ipython3",
   "nbconvert_exporter": "python",
   "file_extension": ".py"
  },
  "kernelspec": {
   "name": "python3",
   "display_name": "Python 3.8.8 64-bit ('base': conda)"
  },
  "interpreter": {
   "hash": "ffb675bf07703f28461ec9aff5c5373c66e814e8c5d8191d6a337708828f3c08"
  }
 },
 "nbformat": 4,
 "nbformat_minor": 2
}